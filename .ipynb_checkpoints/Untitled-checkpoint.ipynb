{
 "cells": [
  {
   "cell_type": "code",
   "execution_count": 1,
   "id": "9e1f56c4-5b54-4eb5-8802-983a40c0675f",
   "metadata": {},
   "outputs": [],
   "source": [
    "x= 'test'"
   ]
  },
  {
   "cell_type": "code",
   "execution_count": 1,
   "id": "c88c3e56-d57d-4130-921c-8bcd68d9b841",
   "metadata": {},
   "outputs": [],
   "source": [
    "y= 'test2'"
   ]
  },
  {
   "cell_type": "code",
   "execution_count": 1,
   "id": "b9006425-a61f-409d-bc49-f5dec4e22966",
   "metadata": {},
   "outputs": [],
   "source": [
    "z= 'test3'"
   ]
  },
  {
   "cell_type": "code",
   "execution_count": 1,
   "id": "a12a369c-f126-449d-90db-5c2ad9f895d9",
   "metadata": {},
   "outputs": [],
   "source": [
    "c='test4'"
   ]
  },
  {
   "cell_type": "code",
   "execution_count": null,
   "id": "6f29bbbe-c927-437d-8d4c-0a5944548ce5",
   "metadata": {},
   "outputs": [],
   "source": []
  }
 ],
 "metadata": {
  "kernelspec": {
   "display_name": "Python 3 (ipykernel)",
   "language": "python",
   "name": "python3"
  },
  "language_info": {
   "codemirror_mode": {
    "name": "ipython",
    "version": 3
   },
   "file_extension": ".py",
   "mimetype": "text/x-python",
   "name": "python",
   "nbconvert_exporter": "python",
   "pygments_lexer": "ipython3",
   "version": "3.8.19"
  }
 },
 "nbformat": 4,
 "nbformat_minor": 5
}
